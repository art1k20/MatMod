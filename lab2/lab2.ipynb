{
 "cells": [
  {
   "cell_type": "markdown",
   "metadata": {},
   "source": [
    "![Alt text](image.png)\n",
    "\n",
    "Для розв'язання задачі ''ручками'' нам довелося б приводити задачу до зручної форми, яка мала б вигляд:\n",
    "\n",
    "\n",
    "\\begin{equation*}\n",
    "  z = x_1 + x_2 + 0x_3 + 0x_4 + 0x_5 + Mx_6(max)\n",
    " \\begin{cases}\n",
    "   2x_1 + 11x_2 + x_3 = 38, \n",
    "   \\\\\n",
    "   x_1 + x_2 + x_4 = 7,\n",
    "   \\\\\n",
    "   4x_1 - 5x_2 + x_5 = 5,\n",
    "   \\\\\n",
    "   x_1,_2,_3,_4,_5,_6 >= 0.\n",
    " \\end{cases}\n",
    "\\end{equation*}"
   ]
  },
  {
   "cell_type": "markdown",
   "metadata": {},
   "source": []
  },
  {
   "cell_type": "code",
   "execution_count": 3,
   "metadata": {},
   "outputs": [
    {
     "name": "stdout",
     "output_type": "stream",
     "text": [
      "Optimization terminated successfully.\n",
      "         Current function value: -7.000000   \n",
      "         Iterations: 3\n",
      "     con: array([], dtype=float64)\n",
      "     fun: -7.0\n",
      " message: 'Optimization terminated successfully.'\n",
      "     nit: 3\n",
      "   slack: array([ 1.00000000e+00,  0.00000000e+00, -1.77635684e-15])\n",
      "  status: 0\n",
      " success: True\n",
      "       x: array([4.44444444, 2.55555556])\n"
     ]
    },
    {
     "name": "stderr",
     "output_type": "stream",
     "text": [
      "C:\\Users\\valer\\AppData\\Local\\Temp\\ipykernel_1336\\3073419302.py:11: DeprecationWarning: `method='simplex'` is deprecated and will be removed in SciPy 1.11.0. Please use one of the HiGHS solvers (e.g. `method='highs'`) in new code.\n",
      "  res = linprog(c, A_ub=A, b_ub=b,  bounds=(x, y), method='simplex', options={\"disp\": True})  # linear programming p[roblem\n"
     ]
    }
   ],
   "source": [
    "import numpy as np\n",
    "from scipy.optimize import linprog\n",
    "\n",
    "c = [-1, -1]\n",
    "A = [[2, 11], [1, 1], [4, -5]]\n",
    "b = [38, 7, 5]\n",
    "# define the upper bound and the lower bound\n",
    "x = (0, None)\n",
    "y = (0, None)\n",
    "\n",
    "res = linprog(c, A_ub=A, b_ub=b,  bounds=(x, y), method='simplex', options={\"disp\": True})  # linear programming p[roblem\n",
    "print(res)\n"
   ]
  },
  {
   "cell_type": "code",
   "execution_count": 4,
   "metadata": {},
   "outputs": [
    {
     "name": "stdout",
     "output_type": "stream",
     "text": [
      "           con: array([], dtype=float64)\n",
      " crossover_nit: 0\n",
      "         eqlin:  marginals: array([], dtype=float64)\n",
      "  residual: array([], dtype=float64)\n",
      "           fun: -7.000000000000002\n",
      "       ineqlin:  marginals: array([-0., -1., -0.])\n",
      "  residual: array([1., 0., 0.])\n",
      "         lower:  marginals: array([0., 0.])\n",
      "  residual: array([4.44444444, 2.55555556])\n",
      "       message: 'Optimization terminated successfully. (HiGHS Status 7: Optimal)'\n",
      "           nit: 3\n",
      "         slack: array([1., 0., 0.])\n",
      "        status: 0\n",
      "       success: True\n",
      "         upper:  marginals: array([0., 0.])\n",
      "  residual: array([inf, inf])\n",
      "             x: array([4.44444444, 2.55555556])\n"
     ]
    }
   ],
   "source": [
    "c = [-1, -1]\n",
    "A = [[2, 11], [1, 1], [4, -5]]\n",
    "b = [38, 7, 5]\n",
    "# define the upper bound and the lower bound\n",
    "x = (0, None)\n",
    "y = (0, None)\n",
    "\n",
    "res = linprog(c, A_ub=A, b_ub=b,  bounds=(x, y), method='highs', options={\"disp\": True})  # linear programming p[roblem\n",
    "print(res)"
   ]
  }
 ],
 "metadata": {
  "kernelspec": {
   "display_name": "Python 3",
   "language": "python",
   "name": "python3"
  },
  "language_info": {
   "codemirror_mode": {
    "name": "ipython",
    "version": 3
   },
   "file_extension": ".py",
   "mimetype": "text/x-python",
   "name": "python",
   "nbconvert_exporter": "python",
   "pygments_lexer": "ipython3",
   "version": "3.9.10"
  },
  "orig_nbformat": 4
 },
 "nbformat": 4,
 "nbformat_minor": 2
}
