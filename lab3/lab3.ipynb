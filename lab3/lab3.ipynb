{
 "cells": [
  {
   "cell_type": "markdown",
   "metadata": {},
   "source": [
    "\\begin{equation*}  \n",
    " \\begin{cases}\n",
    "   0 \\leq y \\leq 1 \\;\\; if \\;\\; 0 \\leq x \\leq 1,\n",
    "   \\\\\n",
    "   0 \\leq y \\leq 3 \\;\\; if \\;\\; 1< x \\leq 3,\n",
    "   \\\\\n",
    "   2 \\leq y \\leq 3 \\;\\; if \\;\\; 3< x \\leq 4,\n",
    "   \\\\\n",
    "   \n",
    " \\end{cases}\n",
    "\\end{equation*}"
   ]
  },
  {
   "cell_type": "code",
   "execution_count": 1,
   "metadata": {},
   "outputs": [],
   "source": [
    "import random \n",
    "import matplotlib.pyplot as plt\n",
    "import numpy as np\n"
   ]
  },
  {
   "cell_type": "code",
   "execution_count": null,
   "metadata": {},
   "outputs": [],
   "source": []
  }
 ],
 "metadata": {
  "kernelspec": {
   "display_name": "Python 3",
   "language": "python",
   "name": "python3"
  },
  "language_info": {
   "codemirror_mode": {
    "name": "ipython",
    "version": 3
   },
   "file_extension": ".py",
   "mimetype": "text/x-python",
   "name": "python",
   "nbconvert_exporter": "python",
   "pygments_lexer": "ipython3",
   "version": "3.9.10"
  },
  "orig_nbformat": 4
 },
 "nbformat": 4,
 "nbformat_minor": 2
}
